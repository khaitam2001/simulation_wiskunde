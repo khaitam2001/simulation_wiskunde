{
 "cells": [
  {
   "cell_type": "markdown",
   "id": "448b6015",
   "metadata": {},
   "source": [
    "Twee grote tanks, elk gevuld met 100 Liter vloeistof, zijn met pijpleidingen aan elkaar verbonden. De vloeistof stroomt van tank A in tank B met een snelheid van 3 L/min en van B in A met 1 L/min. Een zoutoplossing met een concentratie van 0.2 kg/L stroomt met een snelheid van 6 L/min tank A in. De oplossing stroomt met een snelheid van 4 L/min tank A uit en verlaat met een snelheid van 2 L/min tank B.\n",
    "\n",
    "aZ = zout in KG in tank A  \n",
    "bZ = zout in KG in tank b  \n",
    "aC = concentratie in KG/L in tank A  \n",
    "bC = concentratie in KG/L in tank B  \n",
    "\n",
    "Differentiaal vergelijking tank a: dW(t)/dt = aZ(t) + 6*0.2 - aC(t)*7 + bC(t)\n",
    "Differentiaal vergelijking tank b: dW(t)/dt = bZ(t) + aC(t)*3 - bC(t)*3  \n",
    "\n",
    "Euler:  \n",
    "tank a = W(t + h) = W(t) + h(aZ(t) + 6*0.2 - aC(t)*7 + bC)  \n",
    "tank b = W(t + h) = W(t) + h(bZ(t) + aC*3 - bC*3)  "
   ]
  },
  {
   "cell_type": "code",
   "execution_count": 16,
   "id": "ef2a260f",
   "metadata": {},
   "outputs": [],
   "source": [
    "import matplotlib.pyplot as plt\n",
    "import numpy as np\n",
    "import ipywidgets as widgets"
   ]
  },
  {
   "cell_type": "code",
   "execution_count": 37,
   "id": "25af49b9",
   "metadata": {},
   "outputs": [
    {
     "data": {
      "application/vnd.jupyter.widget-view+json": {
       "model_id": "227881e150e649b1b71783afb4dc49a4",
       "version_major": 2,
       "version_minor": 0
      },
      "text/plain": [
       "interactive(children=(IntSlider(value=50, description='stappen', max=180), IntSlider(value=60, description='mi…"
      ]
     },
     "metadata": {},
     "output_type": "display_data"
    },
    {
     "data": {
      "text/plain": [
       "<function __main__.plot(stappen, minuten)>"
      ]
     },
     "execution_count": 37,
     "metadata": {},
     "output_type": "execute_result"
    }
   ],
   "source": [
    "def plot(stappen, minuten):\n",
    "    e_tank_a, e_tank_b = [[100,0]], [[100,20]]\n",
    "    # Inhoud van lijst representeert: [Liters in tank, Zout in kg in tank]\n",
    "    stappen = 60\n",
    "    stepSize = 1/n\n",
    "    num_steps = int(minuten / stepSize)\n",
    "    e_concentraties = []\n",
    "    # Forward Euler\n",
    "    for i in range(1, num_steps + 1):\n",
    "        # Bereken de concentraties van tank a en tank b\n",
    "        e_tank_a_concentratie, e_tank_b_concentratie = e_tank_a[i-1][1] / e_tank_a[i-1][0], e_tank_b[i-1][1] / e_tank_b[i-1][0]\n",
    "        e_tank_a.append([e_tank_a[i-1][0], (e_tank_a[i-1][1] + 6 * 0.2 * stepSize) + e_tank_b_concentratie * stepSize - e_tank_a_concentratie * 7 * stepSize])\n",
    "        e_tank_b.append([e_tank_b[i-1][0], e_tank_b[i-1][1] + e_tank_a_concentratie * 3 * stepSize - e_tank_b_concentratie * 3 * stepSize])\n",
    "        e_concentraties.append([e_tank_a_concentratie, e_tank_b_concentratie])\n",
    "\n",
    "    # Heun werkt helaas niet. Ik begrijp niet waarom hij niet werkt.\n",
    "    h_tank_a, h_tank_b = [[100,0]], [[100,20]]\n",
    "    h_concentraties = []\n",
    "\n",
    "    for i in range(1, num_steps + 1):\n",
    "        h_tank_a_concentratie, h_tank_b_concentratie = h_tank_a[i-1][1] / h_tank_a[i-1][0], h_tank_b[i-1][1] / h_tank_b[i-1][0]\n",
    "        euler_a = [h_tank_a[i-1][0], (h_tank_a[i-1][1] + 6 * 0.2 * stepSize) + h_tank_b_concentratie * stepSize - h_tank_a_concentratie * 7 * stepSize]\n",
    "        h_tank_a.append([h_tank_a[i-1][0], h_tank_a[i-1][1] + stepSize / 2 * (h_tank_a[i-1][1] + euler_a[1])])\n",
    "        euler_b = [h_tank_a[i-1][0], h_tank_b[i-1][1] + h_tank_a_concentratie * 3 * stepSize - h_tank_b_concentratie * 3 * stepSize]\n",
    "        h_tank_b.append([h_tank_b[i-1][0], h_tank_b[i-1][1] + stepSize / 2 * (h_tank_b[i-1][1] + euler_b[1])])\n",
    "        h_concentraties.append([h_tank_a_concentratie, h_tank_b_concentratie])\n",
    "\n",
    "    plt.plot(e_concentraties)\n",
    "    # plt.plot(h_concentraties)\n",
    "    plt.legend(['Euler Tank A', 'Euler Tank B', 'Heun Tank A', 'Heun Tank B'])\n",
    "    plt.xlabel(\"Stappen\")\n",
    "    plt.ylabel(\"Concentratie in KG/L\")\n",
    "    plt.show()\n",
    "\n",
    "widgets.interact(plot, stappen=widgets.IntSlider(min=0, max=180, value=50), minuten=widgets.IntSlider(min=0, max=200, step=1, value=60))"
   ]
  }
 ],
 "metadata": {
  "kernelspec": {
   "display_name": "Python 3",
   "language": "python",
   "name": "python3"
  },
  "language_info": {
   "codemirror_mode": {
    "name": "ipython",
    "version": 3
   },
   "file_extension": ".py",
   "mimetype": "text/x-python",
   "name": "python",
   "nbconvert_exporter": "python",
   "pygments_lexer": "ipython3",
   "version": "3.8.8"
  }
 },
 "nbformat": 4,
 "nbformat_minor": 5
}
