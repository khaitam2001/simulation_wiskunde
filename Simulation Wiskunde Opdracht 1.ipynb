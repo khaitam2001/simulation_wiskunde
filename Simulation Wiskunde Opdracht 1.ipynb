{
 "cells": [
  {
   "cell_type": "markdown",
   "metadata": {},
   "source": [
    "Twee grote tanks, elk gevuld met 100 Liter vloeistof, zijn met pijpleidingen aan elkaar verbonden. De vloeistof stroomt van tank A in tank B met een snelheid van 3 L/min en van B in A met 1 L/min. Een zoutoplossing met een concentratie van 0.2 kg/L stroomt met een snelheid van 6 L/min tank A in. De oplossing stroomt met een snelheid van 4 L/min tank A uit en verlaat met een snelheid van 2 L/min tank B.\n",
    "\n",
    "aZ = zout in KG in tank A  \n",
    "bZ = zout in KG in tank b  \n",
    "aC = concentratie in KG/L in tank A  \n",
    "bC = concentratie in KG/L in tank B  \n",
    "\n",
    "Differentiaal vergelijking tank a: dW(t)/dt = aZ(t) + 6*0.2 - aC(t)*7 + bC(t)\n",
    "Differentiaal vergelijking tank b: dW(t)/dt = bZ(t) + aC(t)*3 - bC(t)*3  \n",
    "\n",
    "Euler:  \n",
    "tank a = W(t + h) = W(t) + 6*0.2 - aC(t)*7 + bC)  \n",
    "tank b = W(t + h) = W(t) + aC*3 - bC*3)  "
   ]
  },
  {
   "cell_type": "code",
   "execution_count": 1,
   "metadata": {},
   "outputs": [],
   "source": [
    "import matplotlib.pyplot as plt\n",
    "import numpy as np\n",
    "import ipywidgets as widgets"
   ]
  },
  {
   "cell_type": "code",
   "execution_count": 2,
   "metadata": {},
   "outputs": [],
   "source": [
    "class Euler():\n",
    "    def __init__(self, stappen):\n",
    "        self.stepSize = 1/stappen\n",
    "        self.tank_a, self.tank_b = [[100,0]], [[100,20]]\n",
    "        self.concentraties = []\n",
    "    \n",
    "    def euler_stap(self):\n",
    "        tank_a_concentratie, tank_b_concentratie = self.tank_a[-1][1] / 100, self.tank_b[-1][1] / 100\n",
    "        self.tank_a.append([100, (self.tank_a[-1][1] + 6 * 0.2 * self.stepSize) + tank_b_concentratie * self.stepSize - tank_a_concentratie * 7 * self.stepSize])\n",
    "        self.tank_b.append([100, (self.tank_b[-1][1] + tank_a_concentratie * 3 * self.stepSize - tank_b_concentratie * 3 * self.stepSize)])\n",
    "        self.concentraties.append([tank_a_concentratie, tank_b_concentratie])\n",
    "    \n",
    "    def plot(self):\n",
    "        plt.plot(self.concentraties)\n",
    "        plt.legend(['Euler Tank A', 'Euler Tank B'])\n",
    "        plt.xlabel(\"Stappen\")\n",
    "        plt.ylabel(\"Concentratie in KG/L\")\n",
    "        plt.show()\n",
    "        \n",
    "class Heun(Euler):\n",
    "    # Heun werkt niet, ik begrijp niet precies waarom.\n",
    "    def __init__(self, stappen):\n",
    "        self.stepSize = 1/stappen\n",
    "        self.tank_a, self.tank_b = [[100,0]], [[100,20]]\n",
    "        self.concentraties = []\n",
    "        \n",
    "    def heun_stap(self):\n",
    "        tank_a_concentratie, tank_b_concentratie = self.tank_a[-1][1] / 100, self.tank_b[-1][1] / 100\n",
    "        \n",
    "        euler_a = [100, (self.tank_a[-1][1] + 6 * 0.2 * self.stepSize) + tank_b_concentratie * self.stepSize - tank_a_concentratie * 7 * self.stepSize]\n",
    "        euler_b = [100, (self.tank_b[-1][1] + tank_a_concentratie * 3 * self.stepSize - tank_b_concentratie * 3 * self.stepSize)]\n",
    "        heun_a = [100, self.tank_a[-1][1] + self.stepSize / 2 * (self.tank_a[-1][1] + euler_a[1])]\n",
    "        heun_b = [100, self.tank_b[-1][1] + self.stepSize / 2 * (self.tank_b[-1][1] + euler_b[1])]\n",
    "        \n",
    "        self.tank_a.append(heun_a)\n",
    "        self.tank_b.append(heun_b)\n",
    "        self.concentraties.append([tank_a_concentratie, tank_b_concentratie])\n",
    "        \n",
    "def plot_euler(stappen, minuten):\n",
    "    euler = Euler(stappen)\n",
    "    for i in range(stappen*minuten):\n",
    "        euler.euler_stap()\n",
    "    euler.plot()\n",
    "\n",
    "def plot_heun(stappen, minuten):\n",
    "    heun = Heun(stappen)\n",
    "    for i in range(stappen*minuten):\n",
    "        heun.heun_stap()\n",
    "    heun.plot()"
   ]
  },
  {
   "cell_type": "code",
   "execution_count": 3,
   "metadata": {},
   "outputs": [
    {
     "data": {
      "application/vnd.jupyter.widget-view+json": {
       "model_id": "6f1714372084453b8bfe7771811d0639",
       "version_major": 2,
       "version_minor": 0
      },
      "text/plain": [
       "interactive(children=(IntSlider(value=60, description='stappen', max=180, min=1), IntSlider(value=120, descrip…"
      ]
     },
     "metadata": {},
     "output_type": "display_data"
    },
    {
     "data": {
      "text/plain": [
       "<function __main__.plot_euler(stappen, minuten)>"
      ]
     },
     "execution_count": 3,
     "metadata": {},
     "output_type": "execute_result"
    }
   ],
   "source": [
    "# Plot type kan \"plot_heun\" of \"plot_euler zijn\". \"plot_heun\" werkt niet.\n",
    "plot_type = plot_euler\n",
    "\n",
    "# Helaas werkt de interact knop niet voor het aantal stappen, \n",
    "# dat zal je helaas zelf moeten aanpassen in de code boven op lijn 3 :/\n",
    "widgets.interact(plot_type, stappen=widgets.IntSlider(min=1, max=180, value=60), \n",
    "                 minuten=widgets.IntSlider(min=0, max=200, step=1, value=120))"
   ]
  },
  {
   "cell_type": "code",
   "execution_count": null,
   "metadata": {},
   "outputs": [],
   "source": []
  }
 ],
 "metadata": {
  "kernelspec": {
   "display_name": "Python 3",
   "language": "python",
   "name": "python3"
  },
  "language_info": {
   "codemirror_mode": {
    "name": "ipython",
    "version": 3
   },
   "file_extension": ".py",
   "mimetype": "text/x-python",
   "name": "python",
   "nbconvert_exporter": "python",
   "pygments_lexer": "ipython3",
   "version": "3.7.6"
  }
 },
 "nbformat": 4,
 "nbformat_minor": 5
}
