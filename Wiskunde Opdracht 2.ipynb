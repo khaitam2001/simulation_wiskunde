{
 "cells": [
  {
   "cell_type": "code",
   "execution_count": 1,
   "metadata": {},
   "outputs": [],
   "source": [
    "import numpy as np\n",
    "import pandas as pd\n",
    "import matplotlib.pyplot as plt\n",
    "from scipy.special import erfc"
   ]
  },
  {
   "cell_type": "code",
   "execution_count": 2,
   "metadata": {},
   "outputs": [],
   "source": [
    "# Class voor de linear congruential method\n",
    "class LinearCongruential:\n",
    "    def __init__(self, seed):\n",
    "        self.seed = seed\n",
    "\n",
    "    def getRandomNumber(self):\n",
    "        # Return random number met de \"linear congruential method\"\n",
    "\n",
    "        # We proberen hier de seed te randomizen\n",
    "        seed_copy = self.seed * 2431\n",
    "        for i in range(5):\n",
    "            seed_copy = seed_copy * 3 ** 0.25\n",
    "        seed_copy = self.linear_congruental(seed_copy, 1, 1, 10000)\n",
    "        return seed_copy\n",
    "\n",
    "    def linear_congruental(self, x0, a, c, m):\n",
    "        return int(a * x0 * c % m)"
   ]
  },
  {
   "cell_type": "code",
   "execution_count": 3,
   "metadata": {},
   "outputs": [],
   "source": [
    "# Class voor de middle square method\n",
    "class MiddleSquare:\n",
    "    def __init__(self, seed):\n",
    "        self.seed = seed\n",
    "\n",
    "    def getRandomNumber(self):\n",
    "        # Gemaakt met behulp van: https://en.wikipedia.org/wiki/Middle-square_method\n",
    "\n",
    "        # De seed moet een even number zijn, dus hier maken we het even.\n",
    "        number = self.seed\n",
    "        already_seen = set()\n",
    "\n",
    "        while number not in already_seen:\n",
    "            already_seen.add(number)\n",
    "            number = int(str(number * number).zfill(8)[2:6])\n",
    "        return number"
   ]
  },
  {
   "cell_type": "code",
   "execution_count": 4,
   "metadata": {},
   "outputs": [],
   "source": [
    "# Class voor de LaggedFibonacci\n",
    "class LaggedFibonacci:\n",
    "    def __init__(self, seed):\n",
    "        # seed moet ten minste 7 nummers lang zijn.\n",
    "        self.seed = list(str(seed + 1000000))[:7]\n",
    "        self.mod = 10001\n",
    "\n",
    "        # Bepaal welke twee cijfers we pakken van de lijst\n",
    "        # In dit geval pakken we de 3rde en 7de element van de lijst.\n",
    "        self.j = 3\n",
    "        self.k = 7\n",
    "\n",
    "    def getRandomNumber(self):\n",
    "        seed = self.seed\n",
    "        for i in range(40):\n",
    "\n",
    "            # We pakken de element j en k van de lijst en plakken die dan achter seed.\n",
    "            number = (int(seed[self.j-1]) + int(seed[self.k-1])) % self.mod\n",
    "            seed.append(str(number))\n",
    "\n",
    "            # Daarna halen we de eerste cijfer weg uit de lijst\n",
    "            seed = seed[1:]\n",
    "        return number"
   ]
  },
  {
   "cell_type": "code",
   "execution_count": 5,
   "metadata": {},
   "outputs": [],
   "source": [
    "class MonteCarloSimulation:\n",
    "    def __init__(self, kansen_tabel, method, n=1000, m=1):\n",
    "        # We maken hier een dataframe om bij te houden hoe vaak iemand een competitie heeft gewonnen\n",
    "        self.board = pd.DataFrame(np.zeros((5, 5)))\n",
    "        self.board.columns = ['Ayax', 'Feyenoord', 'PSV', 'FC Utrecht', 'Willem II']\n",
    "        self.board.index = ['1ste pos', '2nd pos', '3rd pos', '4th pos', '5th pos']\n",
    "\n",
    "        # Hou bij hoe vaak we de simulatie moeten doen, standaard is het 1000\n",
    "        self.n = n\n",
    "\n",
    "        # Dit bepaalt hoe vaak de teams tegen elkaar spelen in een competitie. Standaard is het maar 1 keer\n",
    "        self.m = m\n",
    "\n",
    "        self.kansen_tabel = kansen_tabel\n",
    "        self.method = method\n",
    "\n",
    "    def speel(self, kansentabel, n, seed):\n",
    "        # Functie om een competitie uit te voeren.\n",
    "        kansen_copy = np.zeros_like(kansentabel)\n",
    "\n",
    "        # Hier maken we een copy van de kansentabel en vullen we alles met een [0, 0, 0] of 0\n",
    "        for x in range(kansentabel.shape[0]):\n",
    "            for y in range(kansentabel.shape[1]):\n",
    "                if kansentabel[x, y] != [0]:\n",
    "                    kansen_copy[x, y] = [0, 0, 0]\n",
    "                else:\n",
    "                    kansen_copy[x, y] = 0\n",
    "        \n",
    "        # Hier bepalen we wie wint.\n",
    "        while n != 0:\n",
    "            # We lopen door alles heen en bepalen wie wint gebaseerd op de random number generator die gekozen was.\n",
    "            for x in range(kansentabel.shape[0]):\n",
    "                for y in range(kansentabel.shape[1]):\n",
    "                    # Als de inhoud niet 0 is dan maken we een random number generator aan.\n",
    "                    if kansentabel[x, y] != [0]:\n",
    "                        seed += n\n",
    "                        randomGen = self.method(seed)\n",
    "                        randomKans = randomGen.getRandomNumber()\n",
    "                        # De random number generators kunnen maximaal 10000 returnen.\n",
    "                        # Als de random getal kleiner is dan de eerste waarde * 100, dan heeft hij gewonnen.\n",
    "                        if randomKans < kansentabel[x, y][0] * 100:\n",
    "                            kansen_copy[x, y][0] += 1\n",
    "                        # Als de random getal kleiner is dan de eerste waarde * 100 EN de tweede waarde * 100, \n",
    "                        # dan is het gelijkspel\n",
    "                        elif randomKans < kansentabel[x, y][0] * 100 + kansentabel[x, y][1] * 100:\n",
    "                            kansen_copy[x, y][1] += 1\n",
    "                        # Anders heeft hij verloren.\n",
    "                        else:\n",
    "                            kansen_copy[x, y][2] += 1\n",
    "            n -= 1\n",
    "        return kansen_copy\n",
    "\n",
    "    def simulation(self):\n",
    "        # Functie voor het uitvoeren van de simulatie\n",
    "        for i in range(1, self.n + 1):\n",
    "            \n",
    "            # Hier voeren we één competitie uit.\n",
    "            uitkomsten = self.speel(self.kansen_tabel, self.m, i)\n",
    "\n",
    "            # Voeg de uitkomsten toe aan de clubs.\n",
    "            ayax, feyenoord, psv, fc_utrecht, willem_ii = [], [], [], [], []\n",
    "            for y in range(uitkomsten.shape[1]):\n",
    "                ayax.append(uitkomsten[0, y])\n",
    "                feyenoord.append(uitkomsten[1, y])\n",
    "                psv.append(uitkomsten[2, y])\n",
    "                fc_utrecht.append(uitkomsten[3, y])\n",
    "                willem_ii.append(uitkomsten[4, y])\n",
    "                    \n",
    "            uitkomsten_pd = pd.DataFrame({'Ayax': ayax, 'Feyenoord':feyenoord, 'PSV':psv, 'FC Utrecht':fc_utrecht, 'Willem II':willem_ii})\n",
    "            uitkomsten_pd.index = ['Ayax', 'Feyenoord', 'PSV', 'FC Utrecht', 'Willem II']\n",
    "            punten = {}\n",
    "\n",
    "            # Voeg hier punten toe aan de teams. 3 punten voor een win, 1 punt voor gelijkspel.\n",
    "            for row in uitkomsten_pd:\n",
    "                index = 0\n",
    "                score = 0\n",
    "                for y in range(uitkomsten_pd.shape[1]):\n",
    "                    if uitkomsten_pd[f'{row}'][y] != 0 and uitkomsten_pd.iloc[index][y] != 0:\n",
    "                        score += uitkomsten_pd[f'{row}'][y][2] * 3 + uitkomsten_pd[f'{row}'][y][1]\n",
    "                        score += uitkomsten_pd.iloc[index][y][0] * 3 + uitkomsten_pd.iloc[index][y][1]\n",
    "                punten[row] = score\n",
    "                index += 1\n",
    "\n",
    "            # We sorteren hier de lijst, zodat de clubs met de meeste punten vooraan staan\n",
    "            sorted_score = dict(sorted(punten.items(), key=lambda item: item[1], reverse=True))\n",
    "\n",
    "            # Hier voegen we hun punten toe aan het boord\n",
    "            index = 0\n",
    "            for key in sorted_score.keys():\n",
    "                self.board[key][index] += 1\n",
    "                index += 1\n",
    "\n",
    "    def display(self):\n",
    "        # Maak een copy van het board en verander de integers naar strings met een procent teken.\n",
    "        board_copy = self.board.copy()\n",
    "        board_copy /= self.n / 100\n",
    "        board_copy = board_copy.astype('str')\n",
    "        board_copy += '%'\n",
    "\n",
    "        # Print daarna de dataframe.\n",
    "        with pd.option_context('display.max_rows', None, 'display.max_columns', None):\n",
    "            print(board_copy)"
   ]
  },
  {
   "cell_type": "code",
   "execution_count": 6,
   "metadata": {},
   "outputs": [
    {
     "name": "stdout",
     "output_type": "stream",
     "text": [
      "           Ayax Feyenoord    PSV FC Utrecht Willem II\n",
      "1ste pos  70.4%     10.8%  18.7%       0.1%      0.0%\n",
      "2nd pos   19.4%     27.3%  27.9%      23.9%      1.5%\n",
      "3rd pos    7.4%     27.9%  17.8%      25.6%     21.3%\n",
      "4th pos    2.8%     27.9%  23.2%      18.6%     27.5%\n",
      "5th pos    0.0%      6.1%  12.4%      31.8%     49.7%\n"
     ]
    }
   ],
   "source": [
    "# Dit is een tabel van de kansen van de teams.\n",
    "kansen = np.array([[[0], [30,21,49],[39,22,39],[25,14,61],[17,18,65]],\n",
    "                  [[65,17,18],[0],[54,22,24],[37,23,40],[20,26,54]],\n",
    "                  [[54,21,25],[34,24,39],[0],[29,24,47],[23,24,53]],\n",
    "                  [[74,14,12],[51,22,27],[62,20,18],[0],[37,25,38]],\n",
    "                  [[78,13,9],[60,21,19],[62,22,16],[52,23,25], [0]]])\n",
    "\n",
    "# Maak simulatie en geef parameter aantal simulaties.\n",
    "# Params: Kansen tabel, methode, aantal competities, aantal keren dat teams tegen elkaar spelen in een competitie.\n",
    "# Huidige methodes: LinearCongruential, MiddleSquare, LaggedFibonacci\n",
    "simulation = MonteCarloSimulation(kansen, LaggedFibonacci, 1000, 1)\n",
    "\n",
    "# Voer simulatie uit. Dit kan een tijdje duren gebaseerd op hoeveel simulaties er plaats vindt.\n",
    "simulation.simulation()\n",
    "\n",
    "# Laat percentages zien.\n",
    "simulation.display()"
   ]
  },
  {
   "cell_type": "code",
   "execution_count": 7,
   "metadata": {},
   "outputs": [],
   "source": [
    "def frequency_test(randomNumbers):\n",
    "    # Een basic test voor pseudo random number generators.\n",
    "    # Als p_value groter is dan 0.01, dan kunnen we met 99% zekerheid zeggen, dat het random is.\n",
    "    ones = 0\n",
    "    zeros = 0\n",
    "    for number in randomNumbers:\n",
    "        binary_number = bin(number)[2:]\n",
    "        for number_ in binary_number:\n",
    "            if int(number_) == 1:\n",
    "                ones += 1\n",
    "            elif int(number_) == 0:\n",
    "                zeros += 1\n",
    "    s_n = ones-zeros\n",
    "    n = len(randomNumbers)\n",
    "    s_obs = s_n / n ** 0.5\n",
    "    p_value = erfc(s_obs * (2**0.5))\n",
    "    return p_value"
   ]
  },
  {
   "cell_type": "code",
   "execution_count": 8,
   "metadata": {},
   "outputs": [],
   "source": [
    "lag_fibonacci = []\n",
    "middle_square = []\n",
    "linear_congruential = []\n",
    "for i in range(1000):\n",
    "    fibonacci_gen = LaggedFibonacci(i)\n",
    "    lag_fibonacci.append(fibonacci_gen.getRandomNumber())\n",
    "    middlesquare_gen = MiddleSquare(i)\n",
    "    middle_square.append(middlesquare_gen.getRandomNumber())\n",
    "    linearcongruential_gen = LinearCongruential(i)\n",
    "    linear_congruential.append(linearcongruential_gen.getRandomNumber())"
   ]
  },
  {
   "cell_type": "code",
   "execution_count": 9,
   "metadata": {},
   "outputs": [
    {
     "name": "stdout",
     "output_type": "stream",
     "text": [
      "0.0\n"
     ]
    },
    {
     "data": {
      "image/png": "[encoded data removed]",
      "text/plain": [
       "<Figure size 432x288 with 1 Axes>"
      ]
     },
     "metadata": {
      "needs_background": "light"
     },
     "output_type": "display_data"
    }
   ],
   "source": [
    "print(frequency_test(lag_fibonacci))\n",
    "plt.hist(lag_fibonacci)\n",
    "plt.show()"
   ]
  },
  {
   "cell_type": "code",
   "execution_count": 10,
   "metadata": {},
   "outputs": [
    {
     "name": "stdout",
     "output_type": "stream",
     "text": [
      "2.0\n"
     ]
    },
    {
     "data": {
      "image/png": "[encoded data removed]",
      "text/plain": [
       "<Figure size 432x288 with 1 Axes>"
      ]
     },
     "metadata": {
      "needs_background": "light"
     },
     "output_type": "display_data"
    }
   ],
   "source": [
    "print(frequency_test(middle_square))\n",
    "plt.hist(middle_square)\n",
    "plt.show()"
   ]
  },
  {
   "cell_type": "code",
   "execution_count": 11,
   "metadata": {},
   "outputs": [
    {
     "name": "stdout",
     "output_type": "stream",
     "text": [
      "5.7583971374738194e-251\n"
     ]
    },
    {
     "data": {
      "image/png": "[encoded data removed]",
      "text/plain": [
       "<Figure size 432x288 with 1 Axes>"
      ]
     },
     "metadata": {
      "needs_background": "light"
     },
     "output_type": "display_data"
    }
   ],
   "source": [
    "print(frequency_test(linear_congruential))\n",
    "plt.hist(linear_congruential)\n",
    "plt.show()"
   ]
  },
  {
   "cell_type": "code",
   "execution_count": null,
   "metadata": {},
   "outputs": [],
   "source": []
  }
 ],
 "metadata": {
  "kernelspec": {
   "display_name": "Python 3",
   "language": "python",
   "name": "python3"
  },
  "language_info": {
   "codemirror_mode": {
    "name": "ipython",
    "version": 3
   },
   "file_extension": ".py",
   "mimetype": "text/x-python",
   "name": "python",
   "nbconvert_exporter": "python",
   "pygments_lexer": "ipython3",
   "version": "3.7.6"
  }
 },
 "nbformat": 4,
 "nbformat_minor": 4
}
