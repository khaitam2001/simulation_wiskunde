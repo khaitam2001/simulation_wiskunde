{
 "cells": [
  {
   "attachments": {},
   "cell_type": "markdown",
   "metadata": {},
   "source": [
    "Differentiaalvergelijken voor verkeersdoorstroming\n",
    "\n",
    "Utrecht CS, Oorsprongpark en Transferium USP op lijn 28 in Utrecht. Traject A is dus UCS->Oorspr, B is Oospr->USP\n",
    "\n",
    "Voor dit traject gaan we uit van (op traject A) 400 auto/uur respectievelijk (op traject B) 650 auto/uur, met beide 6 bussen/uur. De vaste instroom is 90 respectievelijk 20 auto's / uur, met een uitstroom van 50% op beide trajecten. De maximum capaciteit voor A is 600 a/u, en voor B 1400 a/u, waarbij de instroom 5% van de beschikbare capaciteit is. Tot slot is de impact van het matrix-bord dat 10% van het aantal auto's per uur op traject B van het aantal auto's op traject A zal worden afgetrokken.\n",
    "\n",
    "Differential vergelijking:  \n",
    "c = beschikbare capaciteit  \n",
    "b = instroming van traject b  \n",
    "Traject A: dW(t)/dt = W(t) * 0.5 + 90 + c(t) * 0.05 - b(t) * 0.1  \n",
    "Traject B: dW(t)/dt = W(t) * 0.5 + 20 + c(t) * 0.05  \n",
    "\n",
    "Euler:  \n",
    "Traject A: W(t + h) = W(t) * 0.5 + 90 + c(t) * 0.05 - b(t) * 0.1  \n",
    "Traject B: W(t + h) = W(t) * 0.5 + 20 + c(t) * 0.05  "
   ]
  },
  {
   "cell_type": "code",
   "execution_count": 1,
   "metadata": {},
   "outputs": [],
   "source": [
    "import matplotlib.pyplot as plt\n",
    "import ipywidgets as widgets"
   ]
  },
  {
   "cell_type": "code",
   "execution_count": 2,
   "metadata": {
    "scrolled": true
   },
   "outputs": [],
   "source": [
    "class Euler():\n",
    "    def __init__(self, stapgrootte, begin_traject_a, begin_traject_b, max_capaciteit_traject_a, max_capaciteit_traject_b,\n",
    "                a_vaste_instroming, b_vaste_instroming):\n",
    "        self.stapgrootte = stapgrootte\n",
    "        self.autos_per_uur = [(begin_traject_a, begin_traject_b)]\n",
    "        self.max_capaciteit_traject_a = max_capaciteit_traject_a\n",
    "        self.max_capaciteit_traject_b = max_capaciteit_traject_b\n",
    "        self.a_vaste_instroming = a_vaste_instroming\n",
    "        self.b_vaste_instroming = b_vaste_instroming\n",
    "        \n",
    "    def euler_stap(self):\n",
    "        # Bepaal met euler wat er uit traject b hoort te komen\n",
    "        euler_traject_b = self.traject_b(self.autos_per_uur[-1][1])\n",
    "        \n",
    "        # Traject b mag niet over zijn maximum capaciteit heen\n",
    "        if euler_traject_b > self.max_capaciteit_traject_b:\n",
    "            euler_traject_b = self.max_capaciteit_traject_b\n",
    "        \n",
    "        # 10% van traject b wordt afgetrokken van traject a en bepaal met euler wat er uit traject a hoort te komen\n",
    "        euler_traject_a = self.traject_a(self.autos_per_uur[-1][0], euler_traject_b)\n",
    "        \n",
    "        # Traject a mag niet over zijn maximum capaciteit heen\n",
    "        if euler_traject_a > self.max_capaciteit_traject_a:\n",
    "            euler_traject_a = self.max_capaciteit_traject_a\n",
    "        \n",
    "        # Voeg de uitkomst bij een lijst.\n",
    "        self.autos_per_uur.append((euler_traject_a, euler_traject_b))\n",
    "        \n",
    "    def traject_a(self, start, b_instroming):\n",
    "        vaste_instroom = self.a_vaste_instroming / self.stapgrootte  # traject a heeft een vaste instroom van 90 auto/uur.\n",
    "        # 5% van de beschikbare capaciteit stroomt in.\n",
    "        instroom = ((self.max_capaciteit_traject_a - start) * 0.05) / self.stapgrootte\n",
    "        uitstroom = start - start * (1 - 0.5 / self.stapgrootte)  # 50% gaat weg\n",
    "        b_instroming *= 0.1 / self.stapgrootte # 10% van traject b wordt afgetrokken van traject a\n",
    "\n",
    "        # We voegen 90 en 5% beschikbare capaciteit toe.\n",
    "        # Daarna halen we 10% van b_instroming weg en dan halen we hier weer 50% van af.\n",
    "        return start - uitstroom + vaste_instroom + instroom - b_instroming\n",
    "\n",
    "    def traject_b(self, start):\n",
    "        vaste_instroom = self.b_vaste_instroming / self.stapgrootte  # traject b heeft een vaste instroom van 20 auto/uur.\n",
    "        # 5% van de beschikbare capaciteit stroomt in.\n",
    "        instroom = ((self.max_capaciteit_traject_b - start) * 0.05) / self.stapgrootte  \n",
    "        uitstroom = start - start * (1 - 0.5 / self.stapgrootte)  # 50% gaat weg\n",
    "\n",
    "        # Eerst halen we 50% af van de vorige waarde\n",
    "        # We voegen 20 en 5% beschikbare capaciteit toe.\n",
    "        return start - uitstroom + vaste_instroom + instroom\n",
    "    \n",
    "    def plot(self):\n",
    "        plt.plot(self.autos_per_uur)\n",
    "        plt.title('Verkeersdoorstroming')\n",
    "        plt.ylabel('auto/uur')\n",
    "        plt.xlabel('Stappen')\n",
    "        plt.legend(['Traject A', 'Traject B'])\n",
    "    \n",
    "def plot_euler(stappen, stapgrootte, start_a, start_b, max_cap_a, max_cap_b, a_vaste_in, b_vaste_in):\n",
    "    euler = Euler(stapgrootte, start_a, start_b, max_cap_a, max_cap_b, a_vaste_in, b_vaste_in)\n",
    "    for i in range(stappen*stapgrootte):\n",
    "        euler.euler_stap()\n",
    "    euler.plot()"
   ]
  },
  {
   "cell_type": "code",
   "execution_count": 3,
   "metadata": {},
   "outputs": [],
   "source": [
    "class Heun(Euler):\n",
    "    def euler_stap(self):\n",
    "        # bepaal met euler wat er uit traject b hoort te komen\n",
    "        euler_traject_b = self.traject_b(self.autos_per_uur[-1][1])\n",
    "        \n",
    "        # Traject b mag niet over zijn maximum capaciteit heen\n",
    "        if euler_traject_b > self.max_capaciteit_traject_b:\n",
    "            euler_traject_b = self.max_capaciteit_traject_b\n",
    "        \n",
    "        # 10% van traject b wordt afgetrokken van traject a en bepaal met euler wat er uit traject a hoort te komen\n",
    "        euler_traject_a = self.traject_a(self.autos_per_uur[-1][0], euler_traject_b)\n",
    "        \n",
    "        # Traject a mag niet over zijn maximum capaciteit heen\n",
    "        if euler_traject_a > self.max_capaciteit_traject_a:\n",
    "            euler_traject_a = self.max_capaciteit_traject_a\n",
    "        \n",
    "        # Voeg de uitkomst bij een lijst.\n",
    "        return (self.autos_per_uur[-1][0] - euler_traject_a,self.autos_per_uur[-1][1] -  euler_traject_b)\n",
    "        \n",
    "    def heun_stap(self):\n",
    "        euler_a, euler_b = self.euler_stap()\n",
    "        # Bereken hier heun\n",
    "        heun_b = self.heun_traject_b(self.autos_per_uur[-1][1], euler_b)\n",
    "        heun_a = self.heun_traject_a(self.autos_per_uur[-1][0], euler_a, heun_b)\n",
    "        \n",
    "        # Voeg de uitkomst bij een lijst.\n",
    "        self.autos_per_uur.append((heun_a, heun_b))\n",
    "    \n",
    "    def heun_traject_b(self, start, euler_b):\n",
    "        vaste_instroom = self.b_vaste_instroming  # traject b heeft een vaste instroom van 20 auto/uur.\n",
    "        # 5% van de beschikbare capaciteit stroomt in.\n",
    "        instroom = (self.max_capaciteit_traject_b - start) * 0.05\n",
    "        uitstroom = start - start * 0.5  # 50% gaat weg\n",
    "        \n",
    "        return start + (self.stapgrootte / (start - uitstroom + vaste_instroom + instroom) - euler_b) / 2\n",
    "        \n",
    "    def heun_traject_a(self, start, euler_a, b_instroming):\n",
    "        vaste_instroom = self.a_vaste_instroming  # traject a heeft een vaste instroom van 90 auto/uur.\n",
    "        # 5% van de beschikbare capaciteit stroomt in.\n",
    "        instroom = (self.max_capaciteit_traject_a - start) * 0.05\n",
    "        uitstroom = start - start * 0.5  # 50% gaat weg\n",
    "        b_instroming *= 0.1 # 10% van traject b wordt afgetrokken van traject a\n",
    "\n",
    "        return start + (self.stapgrootte / (start - uitstroom + vaste_instroom + instroom - b_instroming) - euler_a) / 2\n",
    "    \n",
    "def plot_heun(stappen, stapgrootte, start_a, start_b, max_cap_a, max_cap_b, a_vaste_in, b_vaste_in):\n",
    "    heun = Heun(stapgrootte, start_a, start_b, max_cap_a, max_cap_b, a_vaste_in, b_vaste_in)\n",
    "    for i in range(stappen*stapgrootte):\n",
    "        heun.heun_stap()\n",
    "    heun.plot()"
   ]
  },
  {
   "cell_type": "code",
   "execution_count": 4,
   "metadata": {
    "scrolled": false
   },
   "outputs": [
    {
     "data": {
      "application/vnd.jupyter.widget-view+json": {
       "model_id": "386affea6f214bd49f5b13ece80fe7a2",
       "version_major": 2,
       "version_minor": 0
      },
      "text/plain": [
       "interactive(children=(IntSlider(value=10, continuous_update=False, description='stappen', max=180, min=1), Int…"
      ]
     },
     "metadata": {},
     "output_type": "display_data"
    },
    {
     "data": {
      "text/plain": [
       "'\\nStappen: Aantal stappen dat wordt gesimuleerd.  \\nStapgrootte: Hoe groot een stap is.  \\nStart A: Het aantal auto/uur traject a mee begint.  \\nStart B: Het aantal auto/uur traject b mee begint.  \\nMax Cap A: Maximum capaciteit van traject a  \\nMax Cap B: Maximum capaciteit van traject b  \\nA Vaste In: Vaste instroming van traject a  \\nB Vaste In: Vaste instroming van traject b  \\n'"
      ]
     },
     "execution_count": 4,
     "metadata": {},
     "output_type": "execute_result"
    }
   ],
   "source": [
    "plot_type = plot_heun # Plot type kan plot_heun of plot_euler zijn. Plot heun werkt helaas niet.\n",
    "\n",
    "widgets.interact(plot_type, \n",
    "                 stappen=widgets.IntSlider(min=1, max=180, value=10, continuous_update=False), \n",
    "                 stapgrootte=widgets.IntSlider(min=1, max=200, step=1, value=100, continuous_update=False),\n",
    "                 start_a=widgets.IntSlider(min=1, max=1000, value=400, continuous_update=False),\n",
    "                 start_b=widgets.IntSlider(min=1, max=2000, value=650, continuous_update=False),\n",
    "                 a_vaste_in=widgets.IntSlider(min=1, max=1000, value=90, continuous_update=False),\n",
    "                 b_vaste_in=widgets.IntSlider(min=1, max=1000, value=20, continuous_update=False),\n",
    "                 max_cap_a=widgets.IntSlider(min=300, max=1000, value=600, continuous_update=False),\n",
    "                 max_cap_b=widgets.IntSlider(min=550, max=2000, value=1400, continuous_update=False))\n",
    "\"\"\"\n",
    "Stappen: Aantal stappen dat wordt gesimuleerd.  \n",
    "Stapgrootte: Hoe groot een stap is.  \n",
    "Start A: Het aantal auto/uur traject a mee begint.  \n",
    "Start B: Het aantal auto/uur traject b mee begint.  \n",
    "Max Cap A: Maximum capaciteit van traject a  \n",
    "Max Cap B: Maximum capaciteit van traject b  \n",
    "A Vaste In: Vaste instroming van traject a  \n",
    "B Vaste In: Vaste instroming van traject b  \n",
    "\"\"\""
   ]
  },
  {
   "cell_type": "markdown",
   "metadata": {},
   "source": [
    "Conclusie:\n",
    "\n",
    "Aan de hand van de grafiek kunnen we zien dat de verhouding langzaam daalt naar een balans. Hierdoor kunnen we zien dat na een tijdje het aantal auto/uur stabiel op ongeveer 190 op traject b blijft en ongeveer 160 op traject a.  \n",
    "\n",
    "Als we dus aannemen dat het aantal bussen constant is, dan is de verhouding na een tijdje: 6 bussen op 190 auto/uur op traject a en 6 bussen op 120 auto/uur op traject b."
   ]
  },
  {
   "cell_type": "code",
   "execution_count": null,
   "metadata": {},
   "outputs": [],
   "source": []
  }
 ],
 "metadata": {
  "kernelspec": {
   "display_name": "Python 3",
   "language": "python",
   "name": "python3"
  },
  "language_info": {
   "codemirror_mode": {
    "name": "ipython",
    "version": 3
   },
   "file_extension": ".py",
   "mimetype": "text/x-python",
   "name": "python",
   "nbconvert_exporter": "python",
   "pygments_lexer": "ipython3",
   "version": "3.7.6"
  }
 },
 "nbformat": 4,
 "nbformat_minor": 4
}
